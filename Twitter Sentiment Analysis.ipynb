{
 "cells": [
  {
   "cell_type": "markdown",
   "id": "829a9873-80cc-4bbc-8ba6-6bc9346f0504",
   "metadata": {},
   "source": [
    "### Twitter Sentiment Analysis on Dior'show at Paris Fashion Week Fall 2022\n"
   ]
  },
  {
   "cell_type": "markdown",
   "id": "5dc213c4-b83a-4c7a-bcbc-b9f431aaf247",
   "metadata": {
    "tags": []
   },
   "source": [
    "#### INTRODUCTION\n",
    "Blackpink Jisoo is making the headlines after her stunning appearance for Dior’s show at the Paris Fashion Week Fall 2022. The Snowdrop star attended Dior’s event for the second year in a row.\n",
    "\n",
    "In this project, we specifically aim to perform sentiment analysis on the official tweets use during the campaign which is #JISOOxDiorAW22 and answer the following research questions:\n",
    "1)What are the sentiments of global tweets about Jisso appearance for Dior's show?\n",
    "2)What are the dominant topics discussed on Twitter about her appearance at the Paris Fashion Week Fall 2022?"
   ]
  },
  {
   "cell_type": "code",
   "execution_count": null,
   "id": "07835d12-85e8-4098-a4ca-db96ab4cb1bc",
   "metadata": {},
   "outputs": [],
   "source": [
    "!pip install snscrape\n",
    "!pip install textblob\n",
    "!pip install tweepy\n",
    "!pip install emot\n",
    "!pip install googletrans"
   ]
  },
  {
   "cell_type": "code",
   "execution_count": 1,
   "id": "4977113f-c430-4af4-b6e3-3b4ca74a0d06",
   "metadata": {},
   "outputs": [],
   "source": [
    "from textblob import TextBlob \n",
    "from emot.emo_unicode import UNICODE_EMOJI, EMOTICONS_EMO\n",
    "import matplotlib.pyplot as plt\n",
    "import snscrape.modules.twitter as sntwitter\n",
    "import pandas as pd\n",
    "import tweepy as tw\n",
    "import pandas as pd \n",
    "import re"
   ]
  },
  {
   "cell_type": "markdown",
   "id": "5a3868f3-9498-4bd5-a94d-ef855df112f6",
   "metadata": {},
   "source": [
    "## DATA COLLECTION \n"
   ]
  },
  {
   "cell_type": "markdown",
   "id": "65035163-60e5-4cd1-9697-2097f6fdf627",
   "metadata": {},
   "source": [
    "### Scrape tweets under #JISOOxDiorAW22 using snscrape"
   ]
  },
  {
   "cell_type": "code",
   "execution_count": 2,
   "id": "32e30f60-9a1f-4f6d-89a6-b7d5cba3e769",
   "metadata": {},
   "outputs": [],
   "source": [
    "# Creating list to append tweet data to\n",
    "tweets_list2 = []\n",
    "\n",
    "# Using TwitterSearchScraper to scrape data and append tweets to list\n",
    "for i,tweet in enumerate(sntwitter.TwitterSearchScraper('#JISOOxDiorAW22 lang:en since:2022-03-01 until:2022-03-04').get_items()):\n",
    "    if i>3000:\n",
    "        break\n",
    "    tweets_list2.append([tweet.date, tweet.id, tweet.content])\n",
    "    \n",
    "# Creating a dataframe from the tweets list above\n",
    "tweet_df = pd.DataFrame(tweets_list2, columns=['date', 'Id', 'text'])"
   ]
  },
  {
   "cell_type": "code",
   "execution_count": 3,
   "id": "ef6d0a1e-3a68-43df-ab10-4f036efba8f6",
   "metadata": {},
   "outputs": [
    {
     "data": {
      "text/html": [
       "<div>\n",
       "<style scoped>\n",
       "    .dataframe tbody tr th:only-of-type {\n",
       "        vertical-align: middle;\n",
       "    }\n",
       "\n",
       "    .dataframe tbody tr th {\n",
       "        vertical-align: top;\n",
       "    }\n",
       "\n",
       "    .dataframe thead th {\n",
       "        text-align: right;\n",
       "    }\n",
       "</style>\n",
       "<table border=\"1\" class=\"dataframe\">\n",
       "  <thead>\n",
       "    <tr style=\"text-align: right;\">\n",
       "      <th></th>\n",
       "      <th>date</th>\n",
       "      <th>Id</th>\n",
       "      <th>text</th>\n",
       "    </tr>\n",
       "  </thead>\n",
       "  <tbody>\n",
       "    <tr>\n",
       "      <th>0</th>\n",
       "      <td>2022-03-03 00:36:48+00:00</td>\n",
       "      <td>1499181964280344577</td>\n",
       "      <td>Our #JISOO ranked No. 1 on Big Data Actor Bran...</td>\n",
       "    </tr>\n",
       "    <tr>\n",
       "      <th>1</th>\n",
       "      <td>2022-03-03 00:32:36+00:00</td>\n",
       "      <td>1499180906560761861</td>\n",
       "      <td>See this Instagram post by @ https://t.co/dRQZ...</td>\n",
       "    </tr>\n",
       "    <tr>\n",
       "      <th>2</th>\n",
       "      <td>2022-03-03 00:29:57+00:00</td>\n",
       "      <td>1499180239523807233</td>\n",
       "      <td>#DiorAW22 attend by our #BlackPink's #JISOOxDi...</td>\n",
       "    </tr>\n",
       "    <tr>\n",
       "      <th>3</th>\n",
       "      <td>2022-03-03 00:28:14+00:00</td>\n",
       "      <td>1499179808173006848</td>\n",
       "      <td>@EliteDaily @BLACKPINK Jisoo main event\\n\\nJIS...</td>\n",
       "    </tr>\n",
       "    <tr>\n",
       "      <th>4</th>\n",
       "      <td>2022-03-03 00:27:40+00:00</td>\n",
       "      <td>1499179666384756737</td>\n",
       "      <td>Words is not enough to describe her beauty 💖\\n...</td>\n",
       "    </tr>\n",
       "  </tbody>\n",
       "</table>\n",
       "</div>"
      ],
      "text/plain": [
       "                       date                   Id  \\\n",
       "0 2022-03-03 00:36:48+00:00  1499181964280344577   \n",
       "1 2022-03-03 00:32:36+00:00  1499180906560761861   \n",
       "2 2022-03-03 00:29:57+00:00  1499180239523807233   \n",
       "3 2022-03-03 00:28:14+00:00  1499179808173006848   \n",
       "4 2022-03-03 00:27:40+00:00  1499179666384756737   \n",
       "\n",
       "                                                text  \n",
       "0  Our #JISOO ranked No. 1 on Big Data Actor Bran...  \n",
       "1  See this Instagram post by @ https://t.co/dRQZ...  \n",
       "2  #DiorAW22 attend by our #BlackPink's #JISOOxDi...  \n",
       "3  @EliteDaily @BLACKPINK Jisoo main event\\n\\nJIS...  \n",
       "4  Words is not enough to describe her beauty 💖\\n...  "
      ]
     },
     "execution_count": 3,
     "metadata": {},
     "output_type": "execute_result"
    }
   ],
   "source": [
    "#View 5 first row in dataframe\n",
    "tweet_df.head()"
   ]
  },
  {
   "cell_type": "code",
   "execution_count": 4,
   "id": "6e30ca1c-ff73-4d62-a647-d7ad556220ba",
   "metadata": {},
   "outputs": [
    {
     "data": {
      "text/plain": [
       "date    0\n",
       "Id      0\n",
       "text    0\n",
       "dtype: int64"
      ]
     },
     "execution_count": 4,
     "metadata": {},
     "output_type": "execute_result"
    }
   ],
   "source": [
    "#Check for missing value \n",
    "tweet_df.isnull().sum()"
   ]
  },
  {
   "cell_type": "markdown",
   "id": "7e8bd8b9-f215-4348-9d49-d5737647cd88",
   "metadata": {},
   "source": [
    "### Data Cleaning\n"
   ]
  },
  {
   "cell_type": "code",
   "execution_count": 5,
   "id": "66bd3b57-8c8a-43f4-b71a-cd764ca500bc",
   "metadata": {},
   "outputs": [],
   "source": [
    "# Function for removing hyperlinks, user mentions, user retweet, hashtag and cariage return\n",
    "def cleanTxt(text):\n",
    "    text = re.sub(r'(@[A-Za-z0-9]+)|([^0-9A-Za-z \\t])|(\\w+:\\/\\/\\S+)','', text) #remove @mention \n",
    "    text = re.sub(r'RT[\\s]+', '', text) #remove RT\n",
    "    text = re.sub(r'https?:\\/\\/\\S+', '', text) #remove hyper link \n",
    "    text = re.sub(r'\\n','', text) #remove cariage return\n",
    "    \n",
    "    return text\n"
   ]
  },
  {
   "cell_type": "code",
   "execution_count": 6,
   "id": "df3c8a6f-761e-428d-a32a-dcb4ff95ceea",
   "metadata": {},
   "outputs": [],
   "source": [
    "# Function for converting emojis into word\n",
    "def convert_emojis(text):\n",
    "    for emot in UNICODE_EMOJI:\n",
    "        text = text.replace(emot, \"_\".join(UNICODE_EMOJI[emot].replace(\",\",\"\").replace(\":\",\"\").split()))\n",
    "    return text"
   ]
  },
  {
   "cell_type": "code",
   "execution_count": 13,
   "id": "23c03852-fea9-45c3-81be-be42b589610e",
   "metadata": {},
   "outputs": [
    {
     "data": {
      "text/html": [
       "<div>\n",
       "<style scoped>\n",
       "    .dataframe tbody tr th:only-of-type {\n",
       "        vertical-align: middle;\n",
       "    }\n",
       "\n",
       "    .dataframe tbody tr th {\n",
       "        vertical-align: top;\n",
       "    }\n",
       "\n",
       "    .dataframe thead th {\n",
       "        text-align: right;\n",
       "    }\n",
       "</style>\n",
       "<table border=\"1\" class=\"dataframe\">\n",
       "  <thead>\n",
       "    <tr style=\"text-align: right;\">\n",
       "      <th></th>\n",
       "      <th>date</th>\n",
       "      <th>Id</th>\n",
       "      <th>text</th>\n",
       "      <th>time</th>\n",
       "    </tr>\n",
       "  </thead>\n",
       "  <tbody>\n",
       "    <tr>\n",
       "      <th>0</th>\n",
       "      <td>2022-03-03 00:36:48+00:00</td>\n",
       "      <td>1499181964280344577</td>\n",
       "      <td>our jisoo ranked no 1 on big data actor brand ...</td>\n",
       "      <td>0</td>\n",
       "    </tr>\n",
       "    <tr>\n",
       "      <th>1</th>\n",
       "      <td>2022-03-03 00:32:36+00:00</td>\n",
       "      <td>1499180906560761861</td>\n",
       "      <td>see this instagram post by   jisoo at pfw jiso...</td>\n",
       "      <td>0</td>\n",
       "    </tr>\n",
       "    <tr>\n",
       "      <th>2</th>\n",
       "      <td>2022-03-03 00:29:57+00:00</td>\n",
       "      <td>1499180239523807233</td>\n",
       "      <td>dioraw22 attend by our blackpinks jisooxdioraw...</td>\n",
       "      <td>0</td>\n",
       "    </tr>\n",
       "    <tr>\n",
       "      <th>3</th>\n",
       "      <td>2022-03-03 00:28:14+00:00</td>\n",
       "      <td>1499179808173006848</td>\n",
       "      <td>jisoo main eventjisoo at pfw  jisooxdioraw22</td>\n",
       "      <td>0</td>\n",
       "    </tr>\n",
       "    <tr>\n",
       "      <th>4</th>\n",
       "      <td>2022-03-03 00:27:40+00:00</td>\n",
       "      <td>1499179666384756737</td>\n",
       "      <td>words is not enough to describe her beauty jis...</td>\n",
       "      <td>0</td>\n",
       "    </tr>\n",
       "    <tr>\n",
       "      <th>...</th>\n",
       "      <td>...</td>\n",
       "      <td>...</td>\n",
       "      <td>...</td>\n",
       "      <td>...</td>\n",
       "    </tr>\n",
       "    <tr>\n",
       "      <th>2996</th>\n",
       "      <td>2022-03-02 06:30:44+00:00</td>\n",
       "      <td>1498908648327708674</td>\n",
       "      <td>jisoo  recognized wrong personjisoo at pfw  ji...</td>\n",
       "      <td>6</td>\n",
       "    </tr>\n",
       "    <tr>\n",
       "      <th>2997</th>\n",
       "      <td>2022-03-02 06:30:44+00:00</td>\n",
       "      <td>1498908645320695812</td>\n",
       "      <td>jisoo  fulfill my biggest wishjisoo at pfwjiso...</td>\n",
       "      <td>6</td>\n",
       "    </tr>\n",
       "    <tr>\n",
       "      <th>2998</th>\n",
       "      <td>2022-03-02 06:30:37+00:00</td>\n",
       "      <td>1498908619047272449</td>\n",
       "      <td>oh myyyyjisoo at pfw  jisooxdioraw22</td>\n",
       "      <td>6</td>\n",
       "    </tr>\n",
       "    <tr>\n",
       "      <th>2999</th>\n",
       "      <td>2022-03-02 06:30:35+00:00</td>\n",
       "      <td>1498908609383890946</td>\n",
       "      <td>sunscreenjisoo at pfwjisooxdioraw22</td>\n",
       "      <td>6</td>\n",
       "    </tr>\n",
       "    <tr>\n",
       "      <th>3000</th>\n",
       "      <td>2022-03-02 06:30:34+00:00</td>\n",
       "      <td>1498908603402825728</td>\n",
       "      <td>sunscreenjisoo at pfw jisooxdioraw22</td>\n",
       "      <td>6</td>\n",
       "    </tr>\n",
       "  </tbody>\n",
       "</table>\n",
       "<p>3001 rows × 4 columns</p>\n",
       "</div>"
      ],
      "text/plain": [
       "                          date                   Id  \\\n",
       "0    2022-03-03 00:36:48+00:00  1499181964280344577   \n",
       "1    2022-03-03 00:32:36+00:00  1499180906560761861   \n",
       "2    2022-03-03 00:29:57+00:00  1499180239523807233   \n",
       "3    2022-03-03 00:28:14+00:00  1499179808173006848   \n",
       "4    2022-03-03 00:27:40+00:00  1499179666384756737   \n",
       "...                        ...                  ...   \n",
       "2996 2022-03-02 06:30:44+00:00  1498908648327708674   \n",
       "2997 2022-03-02 06:30:44+00:00  1498908645320695812   \n",
       "2998 2022-03-02 06:30:37+00:00  1498908619047272449   \n",
       "2999 2022-03-02 06:30:35+00:00  1498908609383890946   \n",
       "3000 2022-03-02 06:30:34+00:00  1498908603402825728   \n",
       "\n",
       "                                                   text  time  \n",
       "0     our jisoo ranked no 1 on big data actor brand ...     0  \n",
       "1     see this instagram post by   jisoo at pfw jiso...     0  \n",
       "2     dioraw22 attend by our blackpinks jisooxdioraw...     0  \n",
       "3         jisoo main eventjisoo at pfw  jisooxdioraw22      0  \n",
       "4     words is not enough to describe her beauty jis...     0  \n",
       "...                                                 ...   ...  \n",
       "2996  jisoo  recognized wrong personjisoo at pfw  ji...     6  \n",
       "2997  jisoo  fulfill my biggest wishjisoo at pfwjiso...     6  \n",
       "2998              oh myyyyjisoo at pfw  jisooxdioraw22      6  \n",
       "2999                sunscreenjisoo at pfwjisooxdioraw22     6  \n",
       "3000               sunscreenjisoo at pfw jisooxdioraw22     6  \n",
       "\n",
       "[3001 rows x 4 columns]"
      ]
     },
     "execution_count": 13,
     "metadata": {},
     "output_type": "execute_result"
    }
   ],
   "source": [
    "#Update columns with new functions\n",
    "tweet_df['text'] = tweet_df['text'].apply(cleanTxt)\n",
    "tweet_df['text'] = tweet_df['text'].apply(convert_emojis)\n",
    "tweet_df['time'] = pd.to_datetime(tweet_df['date']).dt.hour\n",
    "tweet_df['text'] = tweet_df['text'].str.lower()\n",
    "\n",
    "tweet_df"
   ]
  },
  {
   "cell_type": "code",
   "execution_count": 17,
   "id": "d08d1049-3ea0-48cd-abaa-edc74455e47c",
   "metadata": {},
   "outputs": [
    {
     "name": "stderr",
     "output_type": "stream",
     "text": [
      "C:\\Users\\safin\\AppData\\Local\\Temp/ipykernel_7456/221723879.py:5: FutureWarning: The default value of regex will change from True to False in a future version.\n",
      "  tweet_df['text'] = tweet_df['text'].str.replace(pat, '')\n",
      "C:\\Users\\safin\\AppData\\Local\\Temp/ipykernel_7456/221723879.py:6: FutureWarning: The default value of regex will change from True to False in a future version.\n",
      "  tweet_df['text'] = tweet_df['text'].str.replace(r'\\s+', ' ')\n",
      "C:\\Users\\safin\\AppData\\Local\\Temp/ipykernel_7456/221723879.py:11: FutureWarning: The default value of regex will change from True to False in a future version.\n",
      "  tweet_df['text'] = tweet_df['text'].str.replace(pat2, '')\n"
     ]
    },
    {
     "data": {
      "text/html": [
       "<div>\n",
       "<style scoped>\n",
       "    .dataframe tbody tr th:only-of-type {\n",
       "        vertical-align: middle;\n",
       "    }\n",
       "\n",
       "    .dataframe tbody tr th {\n",
       "        vertical-align: top;\n",
       "    }\n",
       "\n",
       "    .dataframe thead th {\n",
       "        text-align: right;\n",
       "    }\n",
       "</style>\n",
       "<table border=\"1\" class=\"dataframe\">\n",
       "  <thead>\n",
       "    <tr style=\"text-align: right;\">\n",
       "      <th></th>\n",
       "      <th>date</th>\n",
       "      <th>Id</th>\n",
       "      <th>text</th>\n",
       "      <th>time</th>\n",
       "    </tr>\n",
       "  </thead>\n",
       "  <tbody>\n",
       "    <tr>\n",
       "      <th>0</th>\n",
       "      <td>2022-03-03 00:36:48+00:00</td>\n",
       "      <td>1499181964280344577</td>\n",
       "      <td>ranked 1 big data actor brand value top star ...</td>\n",
       "      <td>0</td>\n",
       "    </tr>\n",
       "    <tr>\n",
       "      <th>1</th>\n",
       "      <td>2022-03-03 00:32:36+00:00</td>\n",
       "      <td>1499180906560761861</td>\n",
       "      <td>see instagram post</td>\n",
       "      <td>0</td>\n",
       "    </tr>\n",
       "    <tr>\n",
       "      <th>2</th>\n",
       "      <td>2022-03-03 00:29:57+00:00</td>\n",
       "      <td>1499180239523807233</td>\n",
       "      <td>attend blackpinks  filipina actress model hea...</td>\n",
       "      <td>0</td>\n",
       "    </tr>\n",
       "    <tr>\n",
       "      <th>3</th>\n",
       "      <td>2022-03-03 00:28:14+00:00</td>\n",
       "      <td>1499179808173006848</td>\n",
       "      <td>main event</td>\n",
       "      <td>0</td>\n",
       "    </tr>\n",
       "    <tr>\n",
       "      <th>4</th>\n",
       "      <td>2022-03-03 00:27:40+00:00</td>\n",
       "      <td>1499179666384756737</td>\n",
       "      <td>words enough describe beauty  paris</td>\n",
       "      <td>0</td>\n",
       "    </tr>\n",
       "    <tr>\n",
       "      <th>...</th>\n",
       "      <td>...</td>\n",
       "      <td>...</td>\n",
       "      <td>...</td>\n",
       "      <td>...</td>\n",
       "    </tr>\n",
       "    <tr>\n",
       "      <th>2996</th>\n",
       "      <td>2022-03-02 06:30:44+00:00</td>\n",
       "      <td>1498908648327708674</td>\n",
       "      <td>recognized wrong person</td>\n",
       "      <td>6</td>\n",
       "    </tr>\n",
       "    <tr>\n",
       "      <th>2997</th>\n",
       "      <td>2022-03-02 06:30:44+00:00</td>\n",
       "      <td>1498908645320695812</td>\n",
       "      <td>fulfill biggest wish</td>\n",
       "      <td>6</td>\n",
       "    </tr>\n",
       "    <tr>\n",
       "      <th>2998</th>\n",
       "      <td>2022-03-02 06:30:37+00:00</td>\n",
       "      <td>1498908619047272449</td>\n",
       "      <td>oh myyyy</td>\n",
       "      <td>6</td>\n",
       "    </tr>\n",
       "    <tr>\n",
       "      <th>2999</th>\n",
       "      <td>2022-03-02 06:30:35+00:00</td>\n",
       "      <td>1498908609383890946</td>\n",
       "      <td>sunscreen</td>\n",
       "      <td>6</td>\n",
       "    </tr>\n",
       "    <tr>\n",
       "      <th>3000</th>\n",
       "      <td>2022-03-02 06:30:34+00:00</td>\n",
       "      <td>1498908603402825728</td>\n",
       "      <td>sunscreen</td>\n",
       "      <td>6</td>\n",
       "    </tr>\n",
       "  </tbody>\n",
       "</table>\n",
       "<p>3001 rows × 4 columns</p>\n",
       "</div>"
      ],
      "text/plain": [
       "                          date                   Id  \\\n",
       "0    2022-03-03 00:36:48+00:00  1499181964280344577   \n",
       "1    2022-03-03 00:32:36+00:00  1499180906560761861   \n",
       "2    2022-03-03 00:29:57+00:00  1499180239523807233   \n",
       "3    2022-03-03 00:28:14+00:00  1499179808173006848   \n",
       "4    2022-03-03 00:27:40+00:00  1499179666384756737   \n",
       "...                        ...                  ...   \n",
       "2996 2022-03-02 06:30:44+00:00  1498908648327708674   \n",
       "2997 2022-03-02 06:30:44+00:00  1498908645320695812   \n",
       "2998 2022-03-02 06:30:37+00:00  1498908619047272449   \n",
       "2999 2022-03-02 06:30:35+00:00  1498908609383890946   \n",
       "3000 2022-03-02 06:30:34+00:00  1498908603402825728   \n",
       "\n",
       "                                                   text  time  \n",
       "0      ranked 1 big data actor brand value top star ...     0  \n",
       "1                                  see instagram post       0  \n",
       "2      attend blackpinks  filipina actress model hea...     0  \n",
       "3                                          main event       0  \n",
       "4                 words enough describe beauty  paris       0  \n",
       "...                                                 ...   ...  \n",
       "2996                          recognized wrong person       6  \n",
       "2997                             fulfill biggest wish       6  \n",
       "2998                                         oh myyyy       6  \n",
       "2999                                         sunscreen      6  \n",
       "3000                                         sunscreen      6  \n",
       "\n",
       "[3001 rows x 4 columns]"
      ]
     },
     "execution_count": 17,
     "metadata": {},
     "output_type": "execute_result"
    }
   ],
   "source": [
    "#Remove stopwords \n",
    "from nltk.corpus import stopwords\n",
    "stop = stopwords.words('english')\n",
    "pat = r'\\b(?:{})\\b'.format('|'.join(stop))\n",
    "tweet_df['text'] = tweet_df['text'].str.replace(pat, '')\n",
    "tweet_df['text'] = tweet_df['text'].str.replace(r'\\s+', ' ')\n",
    "\n",
    "#Remove collection words\n",
    "remove_words = [\"kim\", \"jisoo\", \"kimjisoo\", \"jisooxdioraw22\", \"pfw\",\"chu\", \"dior\", \"jisoojisoo\", \"xaw22\", \"aw22\", \"x\"]\n",
    "pat2 = '|'.join(remove_words)\n",
    "tweet_df['text'] = tweet_df['text'].str.replace(pat2, '')\n",
    "\n",
    "tweet_df"
   ]
  },
  {
   "cell_type": "markdown",
   "id": "a61d548c-33e3-4dae-8363-053292173be8",
   "metadata": {},
   "source": [
    "### Sentiment Analysis"
   ]
  },
  {
   "cell_type": "code",
   "execution_count": 18,
   "id": "bdf6bf66-0c37-4c8f-a692-95163eeb11c0",
   "metadata": {},
   "outputs": [
    {
     "data": {
      "text/html": [
       "<div>\n",
       "<style scoped>\n",
       "    .dataframe tbody tr th:only-of-type {\n",
       "        vertical-align: middle;\n",
       "    }\n",
       "\n",
       "    .dataframe tbody tr th {\n",
       "        vertical-align: top;\n",
       "    }\n",
       "\n",
       "    .dataframe thead th {\n",
       "        text-align: right;\n",
       "    }\n",
       "</style>\n",
       "<table border=\"1\" class=\"dataframe\">\n",
       "  <thead>\n",
       "    <tr style=\"text-align: right;\">\n",
       "      <th></th>\n",
       "      <th>date</th>\n",
       "      <th>Id</th>\n",
       "      <th>text</th>\n",
       "      <th>time</th>\n",
       "      <th>Subjectivity</th>\n",
       "      <th>Polarity</th>\n",
       "    </tr>\n",
       "  </thead>\n",
       "  <tbody>\n",
       "    <tr>\n",
       "      <th>0</th>\n",
       "      <td>2022-03-03 00:36:48+00:00</td>\n",
       "      <td>1499181964280344577</td>\n",
       "      <td>ranked 1 big data actor brand value top star ...</td>\n",
       "      <td>0</td>\n",
       "      <td>0.533333</td>\n",
       "      <td>0.433333</td>\n",
       "    </tr>\n",
       "    <tr>\n",
       "      <th>1</th>\n",
       "      <td>2022-03-03 00:32:36+00:00</td>\n",
       "      <td>1499180906560761861</td>\n",
       "      <td>see instagram post</td>\n",
       "      <td>0</td>\n",
       "      <td>0.000000</td>\n",
       "      <td>0.000000</td>\n",
       "    </tr>\n",
       "    <tr>\n",
       "      <th>2</th>\n",
       "      <td>2022-03-03 00:29:57+00:00</td>\n",
       "      <td>1499180239523807233</td>\n",
       "      <td>attend blackpinks  filipina actress model hea...</td>\n",
       "      <td>0</td>\n",
       "      <td>1.000000</td>\n",
       "      <td>0.800000</td>\n",
       "    </tr>\n",
       "    <tr>\n",
       "      <th>3</th>\n",
       "      <td>2022-03-03 00:28:14+00:00</td>\n",
       "      <td>1499179808173006848</td>\n",
       "      <td>main event</td>\n",
       "      <td>0</td>\n",
       "      <td>0.333333</td>\n",
       "      <td>0.166667</td>\n",
       "    </tr>\n",
       "    <tr>\n",
       "      <th>4</th>\n",
       "      <td>2022-03-03 00:27:40+00:00</td>\n",
       "      <td>1499179666384756737</td>\n",
       "      <td>words enough describe beauty  paris</td>\n",
       "      <td>0</td>\n",
       "      <td>0.500000</td>\n",
       "      <td>0.000000</td>\n",
       "    </tr>\n",
       "    <tr>\n",
       "      <th>...</th>\n",
       "      <td>...</td>\n",
       "      <td>...</td>\n",
       "      <td>...</td>\n",
       "      <td>...</td>\n",
       "      <td>...</td>\n",
       "      <td>...</td>\n",
       "    </tr>\n",
       "    <tr>\n",
       "      <th>2996</th>\n",
       "      <td>2022-03-02 06:30:44+00:00</td>\n",
       "      <td>1498908648327708674</td>\n",
       "      <td>recognized wrong person</td>\n",
       "      <td>6</td>\n",
       "      <td>0.900000</td>\n",
       "      <td>-0.500000</td>\n",
       "    </tr>\n",
       "    <tr>\n",
       "      <th>2997</th>\n",
       "      <td>2022-03-02 06:30:44+00:00</td>\n",
       "      <td>1498908645320695812</td>\n",
       "      <td>fulfill biggest wish</td>\n",
       "      <td>6</td>\n",
       "      <td>0.000000</td>\n",
       "      <td>0.000000</td>\n",
       "    </tr>\n",
       "    <tr>\n",
       "      <th>2998</th>\n",
       "      <td>2022-03-02 06:30:37+00:00</td>\n",
       "      <td>1498908619047272449</td>\n",
       "      <td>oh myyyy</td>\n",
       "      <td>6</td>\n",
       "      <td>0.000000</td>\n",
       "      <td>0.000000</td>\n",
       "    </tr>\n",
       "    <tr>\n",
       "      <th>2999</th>\n",
       "      <td>2022-03-02 06:30:35+00:00</td>\n",
       "      <td>1498908609383890946</td>\n",
       "      <td>sunscreen</td>\n",
       "      <td>6</td>\n",
       "      <td>0.000000</td>\n",
       "      <td>0.000000</td>\n",
       "    </tr>\n",
       "    <tr>\n",
       "      <th>3000</th>\n",
       "      <td>2022-03-02 06:30:34+00:00</td>\n",
       "      <td>1498908603402825728</td>\n",
       "      <td>sunscreen</td>\n",
       "      <td>6</td>\n",
       "      <td>0.000000</td>\n",
       "      <td>0.000000</td>\n",
       "    </tr>\n",
       "  </tbody>\n",
       "</table>\n",
       "<p>3001 rows × 6 columns</p>\n",
       "</div>"
      ],
      "text/plain": [
       "                          date                   Id  \\\n",
       "0    2022-03-03 00:36:48+00:00  1499181964280344577   \n",
       "1    2022-03-03 00:32:36+00:00  1499180906560761861   \n",
       "2    2022-03-03 00:29:57+00:00  1499180239523807233   \n",
       "3    2022-03-03 00:28:14+00:00  1499179808173006848   \n",
       "4    2022-03-03 00:27:40+00:00  1499179666384756737   \n",
       "...                        ...                  ...   \n",
       "2996 2022-03-02 06:30:44+00:00  1498908648327708674   \n",
       "2997 2022-03-02 06:30:44+00:00  1498908645320695812   \n",
       "2998 2022-03-02 06:30:37+00:00  1498908619047272449   \n",
       "2999 2022-03-02 06:30:35+00:00  1498908609383890946   \n",
       "3000 2022-03-02 06:30:34+00:00  1498908603402825728   \n",
       "\n",
       "                                                   text  time  Subjectivity  \\\n",
       "0      ranked 1 big data actor brand value top star ...     0      0.533333   \n",
       "1                                  see instagram post       0      0.000000   \n",
       "2      attend blackpinks  filipina actress model hea...     0      1.000000   \n",
       "3                                          main event       0      0.333333   \n",
       "4                 words enough describe beauty  paris       0      0.500000   \n",
       "...                                                 ...   ...           ...   \n",
       "2996                          recognized wrong person       6      0.900000   \n",
       "2997                             fulfill biggest wish       6      0.000000   \n",
       "2998                                         oh myyyy       6      0.000000   \n",
       "2999                                         sunscreen      6      0.000000   \n",
       "3000                                         sunscreen      6      0.000000   \n",
       "\n",
       "      Polarity  \n",
       "0     0.433333  \n",
       "1     0.000000  \n",
       "2     0.800000  \n",
       "3     0.166667  \n",
       "4     0.000000  \n",
       "...        ...  \n",
       "2996 -0.500000  \n",
       "2997  0.000000  \n",
       "2998  0.000000  \n",
       "2999  0.000000  \n",
       "3000  0.000000  \n",
       "\n",
       "[3001 rows x 6 columns]"
      ]
     },
     "execution_count": 18,
     "metadata": {},
     "output_type": "execute_result"
    }
   ],
   "source": [
    "#Create a function to get subjectivity \n",
    "def getSubjectivity(text):\n",
    "    return TextBlob(text).sentiment.subjectivity \n",
    "\n",
    "#Create a function to get the polarity \n",
    "def getPolarity(text):\n",
    "    return TextBlob(text).sentiment.polarity \n",
    "\n",
    "#Create two new columns \n",
    "tweet_df['Subjectivity'] =tweet_df['text'].apply(getSubjectivity)\n",
    "tweet_df['Polarity'] =tweet_df['text'].apply(getPolarity)\n",
    "\n",
    "#Show the dataframe with new columns \n",
    "tweet_df"
   ]
  },
  {
   "cell_type": "code",
   "execution_count": 19,
   "id": "3b6eb14a-8e36-4d60-b015-dc2d1070626d",
   "metadata": {},
   "outputs": [
    {
     "data": {
      "text/html": [
       "<div>\n",
       "<style scoped>\n",
       "    .dataframe tbody tr th:only-of-type {\n",
       "        vertical-align: middle;\n",
       "    }\n",
       "\n",
       "    .dataframe tbody tr th {\n",
       "        vertical-align: top;\n",
       "    }\n",
       "\n",
       "    .dataframe thead th {\n",
       "        text-align: right;\n",
       "    }\n",
       "</style>\n",
       "<table border=\"1\" class=\"dataframe\">\n",
       "  <thead>\n",
       "    <tr style=\"text-align: right;\">\n",
       "      <th></th>\n",
       "      <th>date</th>\n",
       "      <th>Id</th>\n",
       "      <th>text</th>\n",
       "      <th>time</th>\n",
       "      <th>Subjectivity</th>\n",
       "      <th>Polarity</th>\n",
       "      <th>Analysis</th>\n",
       "    </tr>\n",
       "  </thead>\n",
       "  <tbody>\n",
       "    <tr>\n",
       "      <th>0</th>\n",
       "      <td>2022-03-03 00:36:48+00:00</td>\n",
       "      <td>1499181964280344577</td>\n",
       "      <td>ranked 1 big data actor brand value top star ...</td>\n",
       "      <td>0</td>\n",
       "      <td>0.533333</td>\n",
       "      <td>0.433333</td>\n",
       "      <td>Positive</td>\n",
       "    </tr>\n",
       "    <tr>\n",
       "      <th>1</th>\n",
       "      <td>2022-03-03 00:32:36+00:00</td>\n",
       "      <td>1499180906560761861</td>\n",
       "      <td>see instagram post</td>\n",
       "      <td>0</td>\n",
       "      <td>0.000000</td>\n",
       "      <td>0.000000</td>\n",
       "      <td>Neutral</td>\n",
       "    </tr>\n",
       "    <tr>\n",
       "      <th>2</th>\n",
       "      <td>2022-03-03 00:29:57+00:00</td>\n",
       "      <td>1499180239523807233</td>\n",
       "      <td>attend blackpinks  filipina actress model hea...</td>\n",
       "      <td>0</td>\n",
       "      <td>1.000000</td>\n",
       "      <td>0.800000</td>\n",
       "      <td>Positive</td>\n",
       "    </tr>\n",
       "    <tr>\n",
       "      <th>3</th>\n",
       "      <td>2022-03-03 00:28:14+00:00</td>\n",
       "      <td>1499179808173006848</td>\n",
       "      <td>main event</td>\n",
       "      <td>0</td>\n",
       "      <td>0.333333</td>\n",
       "      <td>0.166667</td>\n",
       "      <td>Positive</td>\n",
       "    </tr>\n",
       "    <tr>\n",
       "      <th>4</th>\n",
       "      <td>2022-03-03 00:27:40+00:00</td>\n",
       "      <td>1499179666384756737</td>\n",
       "      <td>words enough describe beauty  paris</td>\n",
       "      <td>0</td>\n",
       "      <td>0.500000</td>\n",
       "      <td>0.000000</td>\n",
       "      <td>Neutral</td>\n",
       "    </tr>\n",
       "    <tr>\n",
       "      <th>...</th>\n",
       "      <td>...</td>\n",
       "      <td>...</td>\n",
       "      <td>...</td>\n",
       "      <td>...</td>\n",
       "      <td>...</td>\n",
       "      <td>...</td>\n",
       "      <td>...</td>\n",
       "    </tr>\n",
       "    <tr>\n",
       "      <th>2996</th>\n",
       "      <td>2022-03-02 06:30:44+00:00</td>\n",
       "      <td>1498908648327708674</td>\n",
       "      <td>recognized wrong person</td>\n",
       "      <td>6</td>\n",
       "      <td>0.900000</td>\n",
       "      <td>-0.500000</td>\n",
       "      <td>Negative</td>\n",
       "    </tr>\n",
       "    <tr>\n",
       "      <th>2997</th>\n",
       "      <td>2022-03-02 06:30:44+00:00</td>\n",
       "      <td>1498908645320695812</td>\n",
       "      <td>fulfill biggest wish</td>\n",
       "      <td>6</td>\n",
       "      <td>0.000000</td>\n",
       "      <td>0.000000</td>\n",
       "      <td>Neutral</td>\n",
       "    </tr>\n",
       "    <tr>\n",
       "      <th>2998</th>\n",
       "      <td>2022-03-02 06:30:37+00:00</td>\n",
       "      <td>1498908619047272449</td>\n",
       "      <td>oh myyyy</td>\n",
       "      <td>6</td>\n",
       "      <td>0.000000</td>\n",
       "      <td>0.000000</td>\n",
       "      <td>Neutral</td>\n",
       "    </tr>\n",
       "    <tr>\n",
       "      <th>2999</th>\n",
       "      <td>2022-03-02 06:30:35+00:00</td>\n",
       "      <td>1498908609383890946</td>\n",
       "      <td>sunscreen</td>\n",
       "      <td>6</td>\n",
       "      <td>0.000000</td>\n",
       "      <td>0.000000</td>\n",
       "      <td>Neutral</td>\n",
       "    </tr>\n",
       "    <tr>\n",
       "      <th>3000</th>\n",
       "      <td>2022-03-02 06:30:34+00:00</td>\n",
       "      <td>1498908603402825728</td>\n",
       "      <td>sunscreen</td>\n",
       "      <td>6</td>\n",
       "      <td>0.000000</td>\n",
       "      <td>0.000000</td>\n",
       "      <td>Neutral</td>\n",
       "    </tr>\n",
       "  </tbody>\n",
       "</table>\n",
       "<p>3001 rows × 7 columns</p>\n",
       "</div>"
      ],
      "text/plain": [
       "                          date                   Id  \\\n",
       "0    2022-03-03 00:36:48+00:00  1499181964280344577   \n",
       "1    2022-03-03 00:32:36+00:00  1499180906560761861   \n",
       "2    2022-03-03 00:29:57+00:00  1499180239523807233   \n",
       "3    2022-03-03 00:28:14+00:00  1499179808173006848   \n",
       "4    2022-03-03 00:27:40+00:00  1499179666384756737   \n",
       "...                        ...                  ...   \n",
       "2996 2022-03-02 06:30:44+00:00  1498908648327708674   \n",
       "2997 2022-03-02 06:30:44+00:00  1498908645320695812   \n",
       "2998 2022-03-02 06:30:37+00:00  1498908619047272449   \n",
       "2999 2022-03-02 06:30:35+00:00  1498908609383890946   \n",
       "3000 2022-03-02 06:30:34+00:00  1498908603402825728   \n",
       "\n",
       "                                                   text  time  Subjectivity  \\\n",
       "0      ranked 1 big data actor brand value top star ...     0      0.533333   \n",
       "1                                  see instagram post       0      0.000000   \n",
       "2      attend blackpinks  filipina actress model hea...     0      1.000000   \n",
       "3                                          main event       0      0.333333   \n",
       "4                 words enough describe beauty  paris       0      0.500000   \n",
       "...                                                 ...   ...           ...   \n",
       "2996                          recognized wrong person       6      0.900000   \n",
       "2997                             fulfill biggest wish       6      0.000000   \n",
       "2998                                         oh myyyy       6      0.000000   \n",
       "2999                                         sunscreen      6      0.000000   \n",
       "3000                                         sunscreen      6      0.000000   \n",
       "\n",
       "      Polarity  Analysis  \n",
       "0     0.433333  Positive  \n",
       "1     0.000000   Neutral  \n",
       "2     0.800000  Positive  \n",
       "3     0.166667  Positive  \n",
       "4     0.000000   Neutral  \n",
       "...        ...       ...  \n",
       "2996 -0.500000  Negative  \n",
       "2997  0.000000   Neutral  \n",
       "2998  0.000000   Neutral  \n",
       "2999  0.000000   Neutral  \n",
       "3000  0.000000   Neutral  \n",
       "\n",
       "[3001 rows x 7 columns]"
      ]
     },
     "execution_count": 19,
     "metadata": {},
     "output_type": "execute_result"
    }
   ],
   "source": [
    "#Create a function to compute the negative, neutral and positive analysis \n",
    "def getAnalysis(score):\n",
    "    if score < 0 :\n",
    "        return 'Negative'\n",
    "    elif score == 0:\n",
    "        return 'Neutral'\n",
    "    else:\n",
    "        return 'Positive'\n",
    "\n",
    "tweet_df['Analysis'] = tweet_df['Polarity'].apply(getAnalysis)\n",
    "    \n",
    "tweet_df\n"
   ]
  },
  {
   "cell_type": "code",
   "execution_count": 21,
   "id": "7d55c990-6afd-4566-9768-2bac21987be2",
   "metadata": {},
   "outputs": [
    {
     "data": {
      "text/plain": [
       "<function matplotlib.pyplot.show(close=None, block=None)>"
      ]
     },
     "execution_count": 21,
     "metadata": {},
     "output_type": "execute_result"
    },
    {
     "data": {
      "image/png": "[encoded data removed]",
      "text/plain": [
       "<Figure size 576x432 with 1 Axes>"
      ]
     },
     "metadata": {
      "needs_background": "light"
     },
     "output_type": "display_data"
    }
   ],
   "source": [
    "#Plot the polarity and subjectivity \n",
    "plt.figure(figsize=(8,6))\n",
    "for i in range(0, tweet_df.shape[0]):\n",
    "    plt.scatter(tweet_df['Polarity'][i], tweet_df['Subjectivity'][i] , color='Blue')\n",
    "\n",
    "plt.title('Sentiment Analysis')\n",
    "plt.xlabel('Polarity')\n",
    "plt.ylabel('Subjectivity')\n",
    "plt.show "
   ]
  },
  {
   "cell_type": "markdown",
   "id": "c5b2b80c-eed2-4b38-91bd-5c55e0057bdc",
   "metadata": {},
   "source": [
    "#### From the graph above, we can see the overall sentiment polarity was dominantly neutral followed by positive and negative."
   ]
  },
  {
   "cell_type": "code",
   "execution_count": 22,
   "id": "b9caa7a3-5b73-4eb5-af37-d044c91e16dc",
   "metadata": {},
   "outputs": [
    {
     "data": {
      "text/plain": [
       "36.8"
      ]
     },
     "execution_count": 22,
     "metadata": {},
     "output_type": "execute_result"
    }
   ],
   "source": [
    "#Get the percentage of positive tweets \n",
    "percent = tweet_df[tweet_df.Analysis == 'Positive']\n",
    "percent = percent['text']\n",
    "\n",
    "round((percent.shape[0] / tweet_df.shape[0]) * 100, 1)"
   ]
  },
  {
   "cell_type": "code",
   "execution_count": 23,
   "id": "1a54abf4-7abd-48a2-990c-7b6739c5d3e0",
   "metadata": {},
   "outputs": [
    {
     "data": {
      "text/plain": [
       "5.0"
      ]
     },
     "execution_count": 23,
     "metadata": {},
     "output_type": "execute_result"
    }
   ],
   "source": [
    "#Get the percentage of negative tweets \n",
    "percent = tweet_df[tweet_df.Analysis == 'Negative']\n",
    "percent = percent['text']\n",
    "\n",
    "round((percent.shape[0] / tweet_df.shape[0]) * 100, 1)"
   ]
  },
  {
   "cell_type": "code",
   "execution_count": 24,
   "id": "82cbcd72-4252-4b12-b60d-641ee5238c39",
   "metadata": {},
   "outputs": [
    {
     "data": {
      "text/plain": [
       "58.2"
      ]
     },
     "execution_count": 24,
     "metadata": {},
     "output_type": "execute_result"
    }
   ],
   "source": [
    "#Get the percentage of neutral tweets \n",
    "percent = tweet_df[tweet_df.Analysis == 'Neutral']\n",
    "percent = percent['text']\n",
    "\n",
    "round((percent.shape[0] / tweet_df.shape[0]) * 100, 1)"
   ]
  },
  {
   "cell_type": "markdown",
   "id": "586de0a2-7ca0-4f42-828d-8d61e1cfeec6",
   "metadata": {},
   "source": [
    "### Negative Sentiment"
   ]
  },
  {
   "cell_type": "code",
   "execution_count": 25,
   "id": "db0fb2ae-4019-4958-b356-4340b6242840",
   "metadata": {},
   "outputs": [
    {
     "data": {
      "image/png": "[encoded data removed]",
      "text/plain": [
       "<Figure size 432x288 with 1 Axes>"
      ]
     },
     "metadata": {
      "needs_background": "light"
     },
     "output_type": "display_data"
    }
   ],
   "source": [
    "#Plot the sentiment analysis over time \n",
    "negative = tweet_df[\"time\"][tweet_df[\"Analysis\"] == \"Negative\"]\n",
    "plt.hist([negative],label=[\"Negative\"])\n",
    "plt.legend()\n",
    "plt.title(\"Frequency of tweet with each sentiment per day\")\n",
    "plt.xlabel(\"Hour\")\n",
    "plt.xticks(rotation=45)\n",
    "plt.ylabel(\"Tweet Counts\")\n",
    "plt.show()"
   ]
  },
  {
   "cell_type": "code",
   "execution_count": 28,
   "id": "95552f3e-26a8-4d6f-873c-575034117b5c",
   "metadata": {},
   "outputs": [
    {
     "data": {
      "image/png": "[encoded data removed]",
      "text/plain": [
       "<Figure size 576x576 with 1 Axes>"
      ]
     },
     "metadata": {
      "needs_background": "light"
     },
     "output_type": "display_data"
    }
   ],
   "source": [
    "#Common words for negative sentiments \n",
    "from collections import Counter\n",
    "negative_tweets = Counter(\" \".join(tweet_df[\"text\"][tweet_df[\"Analysis\"] == \"Negative\"]).split()).most_common(10)\n",
    "negative_tweets2 = pd.DataFrame(negative_tweets,columns = ['words', 'count'])\n",
    "\n",
    "# Plot horizontal bar graph\n",
    "fig, ax = plt.subplots(figsize=(8, 8))\n",
    "negative_tweets2.sort_values(by='count').plot.barh(x='words',\n",
    "                      y='count',\n",
    "                      ax=ax,\n",
    "                      color=\"purple\")\n",
    "\n",
    "ax.set_title(\"Common Words Found in Negative Sentiments Tweets\")\n",
    "\n",
    "plt.show()"
   ]
  },
  {
   "cell_type": "markdown",
   "id": "90e2e462-115b-48ec-8dce-f72126a60136",
   "metadata": {},
   "source": [
    "### Positive Sentiment "
   ]
  },
  {
   "cell_type": "code",
   "execution_count": 30,
   "id": "407bebb3-ceef-4b96-ad06-462934568209",
   "metadata": {},
   "outputs": [
    {
     "data": {
      "image/png": "[encoded data removed]",
      "text/plain": [
       "<Figure size 432x288 with 1 Axes>"
      ]
     },
     "metadata": {
      "needs_background": "light"
     },
     "output_type": "display_data"
    }
   ],
   "source": [
    "#Plot the sentiment analysis over time \n",
    "positive = tweet_df[\"time\"][tweet_df[\"Analysis\"] == \"Positive\"]\n",
    "plt.hist([positive],label=[\"Positive\"])\n",
    "plt.legend()\n",
    "plt.title(\"Frequency of tweet with each sentiment per day\")\n",
    "plt.xlabel(\"Hour\")\n",
    "plt.xticks(rotation=45)\n",
    "plt.ylabel(\"Tweet Counts\")\n",
    "plt.show()"
   ]
  },
  {
   "cell_type": "code",
   "execution_count": 31,
   "id": "1f4548fd-01e1-43b3-b66f-d38e05f5faab",
   "metadata": {},
   "outputs": [
    {
     "data": {
      "image/png": "[encoded data removed]",
      "text/plain": [
       "<Figure size 576x576 with 1 Axes>"
      ]
     },
     "metadata": {
      "needs_background": "light"
     },
     "output_type": "display_data"
    }
   ],
   "source": [
    "#Common words for negative sentiments \n",
    "negative_tweets = Counter(\" \".join(tweet_df[\"text\"][tweet_df[\"Analysis\"] == \"Positive\"]).split()).most_common(10)\n",
    "negative_tweets2 = pd.DataFrame(negative_tweets,columns = ['words', 'count'])\n",
    "\n",
    "# Plot horizontal bar graph\n",
    "fig, ax = plt.subplots(figsize=(8, 8))\n",
    "negative_tweets2.sort_values(by='count').plot.barh(x='words',\n",
    "                      y='count',\n",
    "                      ax=ax,\n",
    "                      color=\"purple\")\n",
    "\n",
    "ax.set_title(\"Common Words Found in Positive Sentiments Tweets\")\n",
    "\n",
    "plt.show()"
   ]
  },
  {
   "cell_type": "markdown",
   "id": "e4918cad-273f-4c85-9384-5a9cc0da210c",
   "metadata": {},
   "source": [
    "### Neutral Sentiment"
   ]
  },
  {
   "cell_type": "code",
   "execution_count": 33,
   "id": "16aa6d08-b29a-454e-bcd5-ef94a6858b6b",
   "metadata": {},
   "outputs": [
    {
     "data": {
      "image/png": "[encoded data removed]",
      "text/plain": [
       "<Figure size 432x288 with 1 Axes>"
      ]
     },
     "metadata": {
      "needs_background": "light"
     },
     "output_type": "display_data"
    }
   ],
   "source": [
    "#Plot the sentiment analysis over time \n",
    "neutral = tweet_df[\"time\"][tweet_df[\"Analysis\"] == \"Neutral\"]\n",
    "plt.hist([neutral],label=[\"neutral\"])\n",
    "plt.legend()\n",
    "plt.title(\"Frequency of tweet with each sentiment per day\")\n",
    "plt.xlabel(\"Hour\")\n",
    "plt.xticks(rotation=45)\n",
    "plt.ylabel(\"Tweet Counts\")\n",
    "plt.show()"
   ]
  },
  {
   "cell_type": "code",
   "execution_count": null,
   "id": "8739edf2-b041-4738-8239-dc4ef46ad420",
   "metadata": {},
   "outputs": [
    {
     "data": {
      "image/png": "[encoded data removed]",
      "text/plain": [
       "<Figure size 576x576 with 1 Axes>"
      ]
     },
     "metadata": {
      "needs_background": "light"
     },
     "output_type": "display_data"
    }
   ],
   "source": [
    "#Common words for negative sentiments \n",
    "negative_tweets = Counter(\" \".join(tweet_df[\"text\"][tweet_df[\"Analysis\"] == \"Neutral\"]).split()).most_common(10)\n",
    "negative_tweets2 = pd.DataFrame(negative_tweets,columns = ['words', 'count'])\n",
    "\n",
    "# Plot horizontal bar graph\n",
    "fig, ax = plt.subplots(figsize=(8, 8))\n",
    "negative_tweets2.sort_values(by='count').plot.barh(x='words',\n",
    "                      y='count',\n",
    "                      ax=ax,\n",
    "                      color=\"purple\")\n",
    "\n",
    "ax.set_title(\"Common Words Found in Neutral Sentiments Tweets\")\n",
    "\n",
    "plt.show()"
   ]
  },
  {
   "cell_type": "markdown",
   "id": "17207f49-f030-4928-8efc-f7037ba901a1",
   "metadata": {},
   "source": [
    "## Conclusion \n",
    "### We used the sentiments returned from the TextBlob based classifier to find correlations between real-life events and sentiment changes throughout the whole period. From our analysis, we discovered an increase in tweets about her appearance 7 hour after the event. In short, we found that the overall sentiment polarity was dominantly positive. "
   ]
  }
 ],
 "metadata": {
  "kernelspec": {
   "display_name": "Python 3 (ipykernel)",
   "language": "python",
   "name": "python3"
  },
  "language_info": {
   "codemirror_mode": {
    "name": "ipython",
    "version": 3
   },
   "file_extension": ".py",
   "mimetype": "text/x-python",
   "name": "python",
   "nbconvert_exporter": "python",
   "pygments_lexer": "ipython3",
   "version": "3.9.7"
  }
 },
 "nbformat": 4,
 "nbformat_minor": 5
}
